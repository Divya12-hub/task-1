{
 "cells": [
  {
   "cell_type": "code",
   "execution_count": 28,
   "id": "ccac3c6a-5b08-40db-a031-0557a7409dc3",
   "metadata": {},
   "outputs": [
    {
     "name": "stdout",
     "output_type": "stream",
     "text": [
      "Missing values before cleaning:\n",
      " Customer ID        1\n",
      "Name               1\n",
      "Gender             1\n",
      "Age                3\n",
      "Join Date          2\n",
      "Country            1\n",
      "Purchase Amount    3\n",
      "dtype: int64\n",
      "Missing values after cleaning:\n",
      " customer_id        1\n",
      "name               1\n",
      "gender             1\n",
      "age                5\n",
      "join_date          9\n",
      "country            1\n",
      "purchase_amount    3\n",
      "dtype: int64\n",
      "Data cleaning complete.\n",
      "   customer_id     name  gender   age   join_date country  purchase_amount\n",
      "0        101.0    Alice    Male  25.0  01-05-2020     USA            200.5\n",
      "1        102.0      Bob    Male   NaN  02-05-2020     USA            150.0\n",
      "2        103.0  Charlie  Female  35.0         NaN      UK              NaN\n",
      "3        104.0    David  Female  40.0  03-10-2020      UK            300.0\n",
      "4        104.0    David  Female  40.0  03-10-2020     NaN            300.0\n"
     ]
    }
   ],
   "source": [
    "import pandas as pd\n",
    "import numpy as np\n",
    "\n",
    "# Load dataset\n",
    "df = pd.read_csv(\"C:\\\\Users\\\\divyashree\\\\Downloads\\\\messy_dataset_large.csv\")\n",
    "print(\"Missing values before cleaning:\\n\", df.isnull().sum())\n",
    "df = df.drop_duplicates()\n",
    "df[\"Gender\"] = df[\"Gender\"].astype(str).str.strip().str.lower()\n",
    "df[\"Gender\"] = df[\"Gender\"].replace({\n",
    "    \"male\": \"Male\", \"m\": \"Male\",\n",
    "    \"female\": \"Female\", \"f\": \"Female\",\n",
    "    \"none\": np.nan, \"nan\": np.nan\n",
    "})\n",
    "df[\"Country\"] = df[\"Country\"].astype(str).str.strip().str.lower()\n",
    "df[\"Country\"] = df[\"Country\"].replace({\n",
    "    \"usa\": \"USA\", \"uk\": \"UK\", \"india\": \"India\", \"canada\": \"Canada\",\n",
    "    \"nan\": np.nan, \"none\": np.nan\n",
    "})\n",
    "df[\"Name\"] = df[\"Name\"].astype(str).str.strip().str.title()\n",
    "df[\"Name\"] = df[\"Name\"].replace({\"Nan\": np.nan, \"None\": np.nan})\n",
    "df[\"Join Date\"] = pd.to_datetime(df[\"Join Date\"], errors=\"coerce\")\n",
    "df[\"Join Date\"] = df[\"Join Date\"].dt.strftime(\"%d-%m-%Y\")\n",
    "df.columns = df.columns.str.strip().str.lower().str.replace(\" \", \"_\")\n",
    "\n",
    "df[\"age\"] = pd.to_numeric(df[\"age\"], errors=\"coerce\")     # convert to int/NaN\n",
    "df[\"purchase_amount\"] = pd.to_numeric(df[\"purchase_amount\"], errors=\"coerce\")\n",
    "\n",
    "print(\"Missing values after cleaning:\\n\", df.isnull().sum())\n",
    "\n",
    "print(\"Data cleaning complete.\")\n",
    "print(df.head())\n",
    "\n"
   ]
  },
  {
   "cell_type": "code",
   "execution_count": null,
   "id": "9b6d928b-2429-4456-bbf4-23d48e50b534",
   "metadata": {},
   "outputs": [],
   "source": []
  }
 ],
 "metadata": {
  "kernelspec": {
   "display_name": "Python 3 (ipykernel)",
   "language": "python",
   "name": "python3"
  },
  "language_info": {
   "codemirror_mode": {
    "name": "ipython",
    "version": 3
   },
   "file_extension": ".py",
   "mimetype": "text/x-python",
   "name": "python",
   "nbconvert_exporter": "python",
   "pygments_lexer": "ipython3",
   "version": "3.12.4"
  }
 },
 "nbformat": 4,
 "nbformat_minor": 5
}
